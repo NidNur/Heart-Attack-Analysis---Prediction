{
 "cells": [
  {
   "cell_type": "code",
   "execution_count": 12,
   "id": "645933b9",
   "metadata": {},
   "outputs": [
    {
     "data": {
      "text/html": [
       "<div>\n",
       "<style scoped>\n",
       "    .dataframe tbody tr th:only-of-type {\n",
       "        vertical-align: middle;\n",
       "    }\n",
       "\n",
       "    .dataframe tbody tr th {\n",
       "        vertical-align: top;\n",
       "    }\n",
       "\n",
       "    .dataframe thead th {\n",
       "        text-align: right;\n",
       "    }\n",
       "</style>\n",
       "<table border=\"1\" class=\"dataframe\">\n",
       "  <thead>\n",
       "    <tr style=\"text-align: right;\">\n",
       "      <th></th>\n",
       "      <th>age</th>\n",
       "      <th>sex</th>\n",
       "      <th>cp</th>\n",
       "      <th>trtbps</th>\n",
       "      <th>chol</th>\n",
       "      <th>fbs</th>\n",
       "      <th>restecg</th>\n",
       "      <th>thalachh</th>\n",
       "      <th>exng</th>\n",
       "      <th>oldpeak</th>\n",
       "      <th>slp</th>\n",
       "      <th>caa</th>\n",
       "      <th>thall</th>\n",
       "      <th>output</th>\n",
       "    </tr>\n",
       "  </thead>\n",
       "  <tbody>\n",
       "    <tr>\n",
       "      <th>0</th>\n",
       "      <td>63</td>\n",
       "      <td>1</td>\n",
       "      <td>3</td>\n",
       "      <td>145</td>\n",
       "      <td>233</td>\n",
       "      <td>1</td>\n",
       "      <td>0</td>\n",
       "      <td>150</td>\n",
       "      <td>0</td>\n",
       "      <td>2.3</td>\n",
       "      <td>0</td>\n",
       "      <td>0</td>\n",
       "      <td>1</td>\n",
       "      <td>1</td>\n",
       "    </tr>\n",
       "    <tr>\n",
       "      <th>1</th>\n",
       "      <td>67</td>\n",
       "      <td>1</td>\n",
       "      <td>0</td>\n",
       "      <td>160</td>\n",
       "      <td>286</td>\n",
       "      <td>0</td>\n",
       "      <td>0</td>\n",
       "      <td>108</td>\n",
       "      <td>1</td>\n",
       "      <td>1.5</td>\n",
       "      <td>1</td>\n",
       "      <td>3</td>\n",
       "      <td>2</td>\n",
       "      <td>0</td>\n",
       "    </tr>\n",
       "    <tr>\n",
       "      <th>2</th>\n",
       "      <td>37</td>\n",
       "      <td>1</td>\n",
       "      <td>2</td>\n",
       "      <td>130</td>\n",
       "      <td>250</td>\n",
       "      <td>0</td>\n",
       "      <td>1</td>\n",
       "      <td>187</td>\n",
       "      <td>0</td>\n",
       "      <td>3.5</td>\n",
       "      <td>0</td>\n",
       "      <td>0</td>\n",
       "      <td>2</td>\n",
       "      <td>1</td>\n",
       "    </tr>\n",
       "    <tr>\n",
       "      <th>3</th>\n",
       "      <td>67</td>\n",
       "      <td>1</td>\n",
       "      <td>0</td>\n",
       "      <td>120</td>\n",
       "      <td>229</td>\n",
       "      <td>0</td>\n",
       "      <td>0</td>\n",
       "      <td>129</td>\n",
       "      <td>1</td>\n",
       "      <td>2.6</td>\n",
       "      <td>1</td>\n",
       "      <td>2</td>\n",
       "      <td>3</td>\n",
       "      <td>0</td>\n",
       "    </tr>\n",
       "    <tr>\n",
       "      <th>4</th>\n",
       "      <td>41</td>\n",
       "      <td>0</td>\n",
       "      <td>1</td>\n",
       "      <td>130</td>\n",
       "      <td>204</td>\n",
       "      <td>0</td>\n",
       "      <td>0</td>\n",
       "      <td>172</td>\n",
       "      <td>0</td>\n",
       "      <td>1.4</td>\n",
       "      <td>2</td>\n",
       "      <td>0</td>\n",
       "      <td>2</td>\n",
       "      <td>1</td>\n",
       "    </tr>\n",
       "  </tbody>\n",
       "</table>\n",
       "</div>"
      ],
      "text/plain": [
       "   age  sex  cp  trtbps  chol  fbs  restecg  thalachh  exng  oldpeak  slp  \\\n",
       "0   63    1   3     145   233    1        0       150     0      2.3    0   \n",
       "1   67    1   0     160   286    0        0       108     1      1.5    1   \n",
       "2   37    1   2     130   250    0        1       187     0      3.5    0   \n",
       "3   67    1   0     120   229    0        0       129     1      2.6    1   \n",
       "4   41    0   1     130   204    0        0       172     0      1.4    2   \n",
       "\n",
       "   caa  thall  output  \n",
       "0    0      1       1  \n",
       "1    3      2       0  \n",
       "2    0      2       1  \n",
       "3    2      3       0  \n",
       "4    0      2       1  "
      ]
     },
     "execution_count": 12,
     "metadata": {},
     "output_type": "execute_result"
    }
   ],
   "source": [
    "#gerekli kütüphaneleri içe aktarıyoruz. \n",
    "# pandas veri manipülasyonu için, \n",
    "# matplotlib grafik çizimi için, \n",
    "# numpy sayısal işlemler için ve \n",
    "# sklearn (Scikit-learn) ise makine öğrenimi algoritmaları için kullanılır.\n",
    "import pandas as pd\n",
    "import matplotlib.pyplot as plt\n",
    "import numpy as np\n",
    "from sklearn.model_selection import train_test_split\n",
    "from sklearn.neighbors import KNeighborsClassifier\n",
    "from sklearn.preprocessing import MinMaxScaler\n",
    "\n",
    "#Veri setini heart.csv dosyasından pandas kütüphanesinin  fonksiyonuyla okuyoruz \n",
    "# ve başlangıçta veri setinin ilk beş satırını görüntülüyoruz.\n",
    "data=pd.read_csv(\"heart.csv\")\n",
    "data.head()"
   ]
  },
  {
   "cell_type": "code",
   "execution_count": 2,
   "id": "677b734e",
   "metadata": {},
   "outputs": [
    {
     "data": {
      "image/png": "[encoded data removed]",
      "text/plain": [
       "<Figure size 640x480 with 1 Axes>"
      ]
     },
     "metadata": {},
     "output_type": "display_data"
    }
   ],
   "source": [
    "#Veri setindeki hastalıklı ve sağlıklı insanları ayırmak için output sütununu kullanarak iki ayrı alt veri kümesi oluşturuyoruz.\n",
    "kalp_hastalari = data[data.output == 1]\n",
    "saglikli_insanlar = data[data.output == 0]\n",
    "# Sadece gloucose'a bakarak örnek bir çizim \n",
    "plt.scatter(saglikli_insanlar.age, saglikli_insanlar.trtbps, color=\"green\", label=\"daha az kalp krizi olasılığı\", alpha = 0.4)\n",
    "plt.scatter(kalp_hastalari.age, kalp_hastalari.trtbps, color=\"red\", label=\"daha fazla kalp krizi olasılığı\", alpha = 0.4)\n",
    "plt.xlabel(\"Age\")\n",
    "plt.ylabel(\"trtbps\")\n",
    "plt.legend()\n",
    "plt.show()\n"
   ]
  },
  {
   "cell_type": "code",
   "execution_count": 5,
   "id": "54bf9f7d",
   "metadata": {},
   "outputs": [
    {
     "name": "stdout",
     "output_type": "stream",
     "text": [
      "Normalization öncesi ham veriler:\n",
      "\n",
      "   age  sex  cp  trtbps  chol  fbs  restecg  thalachh  exng  oldpeak  slp  \\\n",
      "0   63    1   3     145   233    1        0       150     0      2.3    0   \n",
      "1   67    1   0     160   286    0        0       108     1      1.5    1   \n",
      "2   37    1   2     130   250    0        1       187     0      3.5    0   \n",
      "3   67    1   0     120   229    0        0       129     1      2.6    1   \n",
      "4   41    0   1     130   204    0        0       172     0      1.4    2   \n",
      "\n",
      "   caa  thall  \n",
      "0    0      1  \n",
      "1    3      2  \n",
      "2    0      2  \n",
      "3    2      3  \n",
      "4    0      2  \n",
      "\n",
      "\n",
      "\n",
      "Normalization sonrası yapay zekaya eğitim için vereceğimiz veriler:\n",
      "\n",
      "        age  sex        cp    trtbps      chol  fbs  restecg  thalachh  exng  \\\n",
      "0  0.708333  1.0  1.000000  0.481132  0.244292  1.0      0.0  0.603053   0.0   \n",
      "1  0.791667  1.0  0.000000  0.622642  0.365297  0.0      0.0  0.282443   1.0   \n",
      "2  0.166667  1.0  0.666667  0.339623  0.283105  0.0      0.5  0.885496   0.0   \n",
      "3  0.791667  1.0  0.000000  0.245283  0.235160  0.0      0.0  0.442748   1.0   \n",
      "4  0.250000  0.0  0.333333  0.339623  0.178082  0.0      0.0  0.770992   0.0   \n",
      "\n",
      "    oldpeak  slp   caa     thall  \n",
      "0  0.370968  0.0  0.00  0.333333  \n",
      "1  0.241935  0.5  0.75  0.666667  \n",
      "2  0.564516  0.0  0.00  0.666667  \n",
      "3  0.419355  0.5  0.50  1.000000  \n",
      "4  0.225806  1.0  0.00  0.666667  \n"
     ]
    },
    {
     "name": "stderr",
     "output_type": "stream",
     "text": [
      "D:\\anaconda\\Lib\\site-packages\\numpy\\core\\fromnumeric.py:84: FutureWarning: In a future version, DataFrame.min(axis=None) will return a scalar min over the entire DataFrame. To retain the old behavior, use 'frame.min(axis=0)' or just 'frame.min()'\n",
      "  return reduction(axis=axis, out=out, **passkwargs)\n",
      "D:\\anaconda\\Lib\\site-packages\\numpy\\core\\fromnumeric.py:84: FutureWarning: In a future version, DataFrame.max(axis=None) will return a scalar max over the entire DataFrame. To retain the old behavior, use 'frame.max(axis=0)' or just 'frame.max()'\n",
      "  return reduction(axis=axis, out=out, **passkwargs)\n",
      "D:\\anaconda\\Lib\\site-packages\\numpy\\core\\fromnumeric.py:84: FutureWarning: In a future version, DataFrame.min(axis=None) will return a scalar min over the entire DataFrame. To retain the old behavior, use 'frame.min(axis=0)' or just 'frame.min()'\n",
      "  return reduction(axis=axis, out=out, **passkwargs)\n"
     ]
    }
   ],
   "source": [
    "# x ve y eksenlerini belirleyelim\n",
    "#output sütununu bağımlı değişken olarak kabul ediyoruz ve diğer tüm sütunları bağımsız değişkenler olarak alıyoruz.\n",
    "y = data.output.values\n",
    "x_ham_veri = data.drop([\"output\"],axis=1)   \n",
    "\n",
    "# Verileri normalize ediyoruz.- x_ham_veri içerisindeki değerleri sadece 0 ve 1 arasında olacak şekilde hepsini güncelliyoruz\n",
    "# Eğer bu şekilde normalization yapmazsak yüksek rakamlar küçük rakamları ezer ve KNN algoritmasını yanıltabilir!\n",
    "# Normalizasyon, verilerin farklı ölçeklerde olmasını önler ve böylece algoritmanın daha iyi performans göstermesini sağlar.\n",
    "x = (x_ham_veri - np.min(x_ham_veri))/(np.max(x_ham_veri)-np.min(x_ham_veri))\n",
    "\n",
    "# önce\n",
    "print(\"Normalization öncesi ham veriler:\\n\")\n",
    "print(x_ham_veri.head())\n",
    "\n",
    "\n",
    "# sonra \n",
    "print(\"\\n\\n\\nNormalization sonrası yapay zekaya eğitim için vereceğimiz veriler:\\n\")\n",
    "print(x.head())"
   ]
  },
  {
   "cell_type": "code",
   "execution_count": 6,
   "id": "0f368b46",
   "metadata": {},
   "outputs": [
    {
     "name": "stdout",
     "output_type": "stream",
     "text": [
      "K=3 için Test verilerimizin doğrulama testi sonucu  0.8387096774193549\n"
     ]
    }
   ],
   "source": [
    "# train datamız ile test datamızı ayırıyoruz\n",
    "# train datamız sistemin sağlıklı insan ile hasta insanı ayırt etmesini öğrenmek için kullanılacak\n",
    "# test datamız ise bakalım makine öğrenme modelimiz doğru bir şekilde hasta ve sağlıklı insanları ayırt edebiliyor mu diye \n",
    "# test etmek için kullanılacak...\n",
    "#x_train, x_test, y_train, y_test = train_test_split(x,y,test_size = 0.1,random_state=1)\n",
    "\n",
    "# knn modelimizi oluşturuyoruz.\n",
    "#knn = KNeighborsClassifier(n_neighbors = 3) # n_neighbors = k\n",
    "#knn.fit(x_train,y_train)\n",
    "#prediction = knn.predict(x_test)\n",
    "#print(\"K=3 için Test verilerimizin doğrulama testi sonucu \", knn.score(x_test, y_test))"
   ]
  },
  {
   "cell_type": "code",
   "execution_count": 7,
   "id": "ec3d813b",
   "metadata": {},
   "outputs": [
    {
     "name": "stdout",
     "output_type": "stream",
     "text": [
      "1    Doğruluk oranı: % 80.64516129032258\n",
      "2    Doğruluk oranı: % 80.64516129032258\n",
      "3    Doğruluk oranı: % 83.87096774193549\n",
      "4    Doğruluk oranı: % 83.87096774193549\n",
      "5    Doğruluk oranı: % 90.32258064516128\n",
      "6    Doğruluk oranı: % 83.87096774193549\n",
      "7    Doğruluk oranı: % 90.32258064516128\n",
      "8    Doğruluk oranı: % 87.09677419354838\n",
      "9    Doğruluk oranı: % 90.32258064516128\n",
      "10    Doğruluk oranı: % 87.09677419354838\n"
     ]
    }
   ],
   "source": [
    "# k kaç olmalı ?\n",
    "# en iyi k değerini belirleyelim..\n",
    "#Kullanacağımız K en yakın komşu sayısını belirlemek için bir döngü oluşturuyoruz. \n",
    "# Modeli farklı K değerleriyle eğitip doğruluk oranlarını görüntülüyoruz.\n",
    "sayac = 1\n",
    "for k in range(1,11):\n",
    "    knn_yeni = KNeighborsClassifier(n_neighbors = k)\n",
    "    knn_yeni.fit(x_train,y_train)\n",
    "    print(sayac, \"  \", \"Doğruluk oranı: %\", knn_yeni.score(x_test,y_test)*100)\n",
    "    sayac += 1\n",
    "    "
   ]
  },
  {
   "cell_type": "code",
   "execution_count": 9,
   "id": "598d19da",
   "metadata": {},
   "outputs": [
    {
     "name": "stdout",
     "output_type": "stream",
     "text": [
      "K=5 için Test verilerimizin doğrulama testi sonucu  0.9032258064516129\n"
     ]
    }
   ],
   "source": [
    "#Veriyi eğitim ve test setlerine bölmek için train_test_split() fonksiyonunu kullanıyoruz.\n",
    "x_train, x_test, y_train, y_test = train_test_split(x,y,test_size = 0.1,random_state=1)\n",
    "\n",
    "#5 komşu kullanarak K-NN algoritmasını eğitiyoruz ve test seti üzerinde doğruluk oranını görüntülüyoruz.\n",
    "knn = KNeighborsClassifier(n_neighbors = 5)\n",
    "knn.fit(x_train,y_train)\n",
    "prediction = knn.predict(x_test)\n",
    "print(\"K=5 için Test verilerimizin doğrulama testi sonucu \", knn.score(x_test, y_test))"
   ]
  },
  {
   "cell_type": "code",
   "execution_count": 17,
   "id": "6ac66c15",
   "metadata": {},
   "outputs": [
    {
     "name": "stderr",
     "output_type": "stream",
     "text": [
      "D:\\anaconda\\Lib\\site-packages\\sklearn\\base.py:464: UserWarning: X does not have valid feature names, but MinMaxScaler was fitted with feature names\n",
      "  warnings.warn(\n",
      "D:\\anaconda\\Lib\\site-packages\\sklearn\\base.py:464: UserWarning: X does not have valid feature names, but KNeighborsClassifier was fitted with feature names\n",
      "  warnings.warn(\n"
     ]
    },
    {
     "data": {
      "text/plain": [
       "1"
      ]
     },
     "execution_count": 17,
     "metadata": {},
     "output_type": "execute_result"
    }
   ],
   "source": [
    "#Modeli kullanarak yeni bir hastanın verileri üzerinde tahmin yapılıyor.\n",
    "# Yeni hastanın verileri normalize edilerek modele veriliyor ve tahmin edilen sonuç görüntüleniyor.\n",
    "from sklearn.preprocessing import MinMaxScaler\n",
    " \n",
    "#MinMaxScaler, veri normalizasyonu için kullanılan bir dönüştürücüdür. \n",
    "sc = MinMaxScaler()\n",
    "sc.fit_transform(x_ham_veri)\n",
    " \n",
    "new_prediction = knn.predict(sc.transform(np.array([[20,1,2,130,233,0,0,172,0,2.6,1,0,1]])))\n",
    "new_prediction[0]\n"
   ]
  },
  {
   "cell_type": "code",
   "execution_count": null,
   "id": "b6a8f87e",
   "metadata": {},
   "outputs": [],
   "source": []
  }
 ],
 "metadata": {
  "kernelspec": {
   "display_name": "Python 3 (ipykernel)",
   "language": "python",
   "name": "python3"
  },
  "language_info": {
   "codemirror_mode": {
    "name": "ipython",
    "version": 3
   },
   "file_extension": ".py",
   "mimetype": "text/x-python",
   "name": "python",
   "nbconvert_exporter": "python",
   "pygments_lexer": "ipython3",
   "version": "3.11.4"
  }
 },
 "nbformat": 4,
 "nbformat_minor": 5
}
